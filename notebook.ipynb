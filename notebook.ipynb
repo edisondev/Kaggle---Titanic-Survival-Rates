{
  "metadata": {
    "kernelspec": {
      "name": "python"
    },
    "language_info": {
      "name": "python",
      "version": "3.5.1"
    }
  },
  "nbformat": 4,
  "nbformat_minor": 0,
  "cells": [
    {
      "cell_type": "markdown",
      "source": "\n# Exploring Titanic Survival Rates\n\nThis file tests the notebook environment and serves as a practice for a competition submission.\n\n## Loading and Setting Up of the data",
      "metadata": {}
    },
    {
      "cell_type": "code",
      "source": "#include libraries\nlibrary(ggplot2) #library for producing plots\n\nsystem(\"ls ../input\")\n#load the training data:\ndf=read.csv(\"../input/train.csv\",stringsAsFactors=FALSE) \n\n#Display a summary of all the variables and their type\nstr(df)",
      "execution_count": null,
      "outputs": [],
      "metadata": {}
    },
    {
      "cell_type": "markdown",
      "source": "The previous code used the \"stringsAsFactors = FALSE\" argument so that I get to set up the variables myself. This actually forces the user to look at the content of each variable. Now to set up some factor variables:",
      "metadata": {}
    },
    {
      "cell_type": "code",
      "source": "#Change the survived variable to make summary tables prettier:\ndf$Survived=factor(df$Survived, \n                   levels=c(0,1),\n                   labels =c(\"died\",\"lived\"))",
      "execution_count": null,
      "outputs": [],
      "metadata": {}
    },
    {
      "cell_type": "markdown",
      "source": "## Effect of Gender on Survival\nThis section will explore how the gender affects the mortality:",
      "metadata": {}
    },
    {
      "cell_type": "code",
      "source": "df$Sex=factor(df$Sex) #change the gender variable to a factor\ntable(df$Survived,df$Sex) #See a summary mortality by gender",
      "execution_count": null,
      "outputs": [],
      "metadata": {}
    },
    {
      "cell_type": "markdown",
      "source": "The above table shows that 1 in 4 women died and 4 in 5 men died. This means that the gender has a real effect on survival chances and  will be used as one of the inputs into our system.",
      "metadata": {}
    },
    {
      "cell_type": "markdown",
      "source": "## Effect of Age on Survival\nThis section will examine the survival rates based on the age. It makes sense that kids are more likely to survive. But what about the elderly? Let's explore the age groups and the survival percentage of each group.",
      "metadata": {}
    },
    {
      "cell_type": "code",
      "source": "options(repr.plot.width=5, repr.plot.height=3)#Plot size Options\n\n#Determine age distribution\nage_range=cut(df$Age, seq(0,100,10)) #Sub-divide the ange range into 10 year sections\nqplot(age_range, xlab=\"Age Range\", main=\"Age distribution on the Titanic\") #plot age distributon\n\n#Determine survival percentage:\nggplot(df, aes(x=Age, fill=Survived))+\n  geom_histogram(binwidth = 5,position=\"fill\")+\n  ggtitle(\"Survival percentage amongst the age groups\")\n\n#check percentage of unknown age passengers:\nprint(\"Survival rate of passengers who's age is unknown:\")\ntable(df$Survived[is.na(df$Age)]) \n\n#Replace the missing age entries with the average age\ndf$Age[is.na(df$Age)]=mean(df$Age, na.rm=TRUE)",
      "execution_count": null,
      "outputs": [],
      "metadata": {}
    },
    {
      "cell_type": "markdown",
      "source": "The above graphs show that the survival percentage is highly dependent on age. Younger passengers have a higher survival rate. Elderly passengers for not. There are also over 150 entries that do not have an age value and of those only about 1 in 3 survived. At the end the age is replaced with the average age, which is one strategy to deal with missing values. This seemed appropriate since the survival chances of the missing value people were in the range of the average age as well.",
      "metadata": {}
    },
    {
      "cell_type": "markdown",
      "source": "## Embark Location\nThe next step is to examine/clean the embark location ",
      "metadata": {}
    },
    {
      "cell_type": "code",
      "source": "#Explore embark location\ndf$Embarked[df$Embarked==\"\"]=\"S\" #replace missing values with majority (S), highest chance of being right\ndf$Embarked=factor(df$Embarked, levels=c(\"S\",\"C\",\"Q\")) #Set as factor in order of S->C->Q\ntable(df$Survived,df$Embarked) #show summary table of survival chances",
      "execution_count": null,
      "outputs": [],
      "metadata": {}
    },
    {
      "cell_type": "markdown",
      "source": "The Titanic moved from Southampton to Cherbourg to Queenstown. No apparent trend is visible, but there could be one, where people from certain cities are placed into certain locations on the ship (but I won't spend time researching this). The embark location will be used in the model.",
      "metadata": {}
    },
    {
      "cell_type": "markdown",
      "source": "## Family Relationships\nThis section explores the likelyhood of survival if there is family aboard. It makes sense, since survivors may not have wanted to separate families.",
      "metadata": {}
    },
    {
      "cell_type": "code",
      "source": "print(\"Survival of people who have parents/children aboard\")\ntable(df$Survived,df$Parch) #parent children\n\nprint(\"Survival of people who have siblings/spouses aboard\")\ntable(df$Survived,df$SibSp) #siblings/spouse",
      "execution_count": null,
      "outputs": [],
      "metadata": {}
    },
    {
      "cell_type": "markdown",
      "source": "It appares that people who had no family has a 1 in 3 survival chance. People with 1 family member about a 1 in 2. Once the number of family members increases though, the chance of dieing increases again.",
      "metadata": {}
    },
    {
      "cell_type": "markdown",
      "source": "## Passenger class and Fare\nThere should be a difference in between how many people survived depending on how much they paid and what class they were in. A histogram shows that the distribution of the fare is exponential. We will take the log of the fare to create something that looks more like a normal distribution.",
      "metadata": {}
    },
    {
      "cell_type": "code",
      "source": "print(\"Survival rate against class\")\ntable(df$Survived,df$Pclass) #Summary of passenger vs. class\n\n#Show the histogram of the log-fare\nhist(log(df$Fare)) #histogram, which looks more normal than the skewed Fare distribution\n\n#Some values have Fare=0, this is not good for the log-fare, so we change these values with\n#the mean of the log-fare\ndf$logfare=log(df$Fare)\ndf$logfare[df$Fare==0] = mean(log( df$Fare[df$Fare>0])  )\n\n#Show the survival as a function of log Fare\nggplot(df, aes(x=log(Fare), fill=Survived))+\n  geom_histogram(binwidth = 0.5,position=\"fill\")+\n  ggtitle(\"Survival likelyhood vs. log-fare\")",
      "execution_count": null,
      "outputs": [],
      "metadata": {}
    },
    {
      "cell_type": "markdown",
      "source": "AS the log-fare increases, so did people's survival chances.",
      "metadata": {}
    },
    {
      "cell_type": "markdown",
      "source": "",
      "metadata": {}
    },
    {
      "cell_type": "markdown",
      "source": "## Variable summary\nThe take away is: the more money you have, the younger you are, the more family you have (but not too much), the more likely you are to live.",
      "metadata": {}
    },
    {
      "cell_type": "markdown",
      "source": "# Model Training and Tuning\nNow it is time to divide the dataset into training and testing data.",
      "metadata": {}
    },
    {
      "cell_type": "code",
      "source": "library(caret) #\nset.seed(3456) #set a seed for reproducible results\n\ntrainIndex <- createDataPartition(df$Survived, p = .8,list=FALSE)\ndf_train=df[trainIndex,]\ndf_test=df[-trainIndex,]",
      "execution_count": null,
      "outputs": [],
      "metadata": {}
    },
    {
      "cell_type": "markdown",
      "source": "Now it is time to train a model to the data. I will use C5.0 decision trees. First, let's try the default settings to see what the expected accuracy will be.",
      "metadata": {}
    },
    {
      "cell_type": "code",
      "source": "library(C50) #Import the C5.0 library\n\nmc5=C5.0(Survived~Sex+Age+Embarked+logfare+Pclass+SibSp+Parch,\n        data=df_train) #Train model\n\nnewval=predict(mc5, newdata=df_test) #Predict new values\nconfusionMatrix(newval, df_test$Survived) #Evaluate the perfromance",
      "execution_count": null,
      "outputs": [],
      "metadata": {}
    },
    {
      "cell_type": "markdown",
      "source": "An accuracy of 0.84 and Kappa value of 0.65 are pretty good. Let's try tuning the model by adding a higher cost to the misclassified values:",
      "metadata": {}
    },
    {
      "cell_type": "code",
      "source": "error_cost=matrix(c(0, 5, 5, 0), nrow = 2)\nmc5=C5.0(Survived~Sex+Age+Embarked+logfare+Pclass+SibSp+Parch,\n         data=df_train,\n         costs = error_cost)\n\nnewval=predict(mc5, newdata=df_test) #Predict new values\nconfusionMatrix(newval, df_test$Survived) #Evaluate the perfromance",
      "execution_count": null,
      "outputs": [],
      "metadata": {}
    },
    {
      "cell_type": "markdown",
      "source": "That had no impact on the previously misclassified values. It did shift one of the misclassified value from 25 to 26. If there was more data, then a different weighting can be given to each class.\n\nI played around with the C5.0Control() function to change train controls, but was personally not able to affect an increase in accuracy.\n\nThe next step will add boosting to the model, which generally helps with accuracy. A tuned value of 5 boosting iterations showed promising results.",
      "metadata": {}
    },
    {
      "cell_type": "code",
      "source": "mc5=C5.0(Survived~Sex+Age+Embarked+logfare+Pclass+SibSp+Parch,\n         data=df_train,\n         trials=5) #Number of boosting iterations\n\nnewval=predict(mc5, newdata=df_test) #Predict new values\nconfusionMatrix(newval, df_test$Survived) #Evaluate the perfromance",
      "execution_count": null,
      "outputs": [],
      "metadata": {}
    },
    {
      "cell_type": "markdown",
      "source": "There was a minor reduction in misclassified values (by 1), which increased the accuracy. There was also a shift in which classes were misclassified. I will retrain the model on the entire data and run that model on test.csv and submit it.",
      "metadata": {}
    },
    {
      "cell_type": "markdown",
      "source": "#Final Submission Code\nThe final submission file is created via the following code (I will not go into the details too much)",
      "metadata": {}
    },
    {
      "cell_type": "code",
      "source": "#Importing testing data\ndft=read.csv(\"../input/test.csv\", stringsAsFactors = FALSE)\n\n#Mandatory Data Manipulation prior to running the model:\n#Age:\ndft$Age[is.na(dft$Age)]=mean(dft$Age, na.rm=TRUE) \n\n#Embarked:\ndft$Embarked[dft$Embarked==\"\"]=\"S\"\ndft$Embarked=factor(dft$Embarked, levels=c(\"S\",\"C\",\"Q\"))\n\n#Missing Fare\ndft$logfare=log(dft$Fare)\ndft$logfare[is.na(dft$Fare)]= mean(log( dft$Fare[dft$Fare>0]), na.rm=TRUE  )\n\n\n\nnewval=predict(mc5, newdata=dft) #Predict the test data\ndft$Survived=newval #add the predicted survival rates to dft\nlevels(dft$Survived)= c(0,1) #change the \"survived\" variable from died/lived to 0/1 as requested\n\nwrite.csv(dft[c(\"PassengerId\",\"Survived\")], #select column names \n          file=\"submission.csv\", #output file name\n          row.names=FALSE, #do not print row names\n          quote=FALSE) #do not encapsulate data by quotation marks",
      "execution_count": null,
      "outputs": [],
      "metadata": {}
    }
  ]
}